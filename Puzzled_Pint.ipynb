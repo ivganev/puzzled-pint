{
 "cells": [
  {
   "cell_type": "markdown",
   "metadata": {},
   "source": [
    "# Puzzled Pint \n",
    "\n",
    "In this notebook, we scrape a website for data about Puzzled Pint events, and collect information about these events. "
   ]
  },
  {
   "cell_type": "markdown",
   "metadata": {},
   "source": [
    "## 1. Get the data\n",
    "\n",
    "We import the data from the website https://paranoiq.cz/calc/puzzled-pint/data into a local file, then use Beautiful Soup to process the fill, and identify the (single) table. "
   ]
  },
  {
   "cell_type": "code",
   "execution_count": null,
   "metadata": {},
   "outputs": [],
   "source": [
    "import requests\n",
    "\n",
    "url = \"https://paranoiq.cz/calc/puzzled-pint/data\"\n",
    "page = requests.get(url).text\n",
    "with open('puzzled_pint_statistics.html', 'w') as f:\n",
    "    f.write(page)"
   ]
  },
  {
   "cell_type": "code",
   "execution_count": null,
   "metadata": {},
   "outputs": [],
   "source": [
    "from bs4 import BeautifulSoup \n",
    "\n",
    "with open('puzzled_pint_statistics.html') as f:\n",
    "    text = f.read()\n",
    "soup = BeautifulSoup(text, \"html5lib\")\n",
    "\n",
    "table = soup.find('table')  ## There is a single table\n",
    "all_rows = table.find_all('tr')"
   ]
  },
  {
   "cell_type": "markdown",
   "metadata": {},
   "source": [
    "## 2. Build the header\n",
    "\n",
    "Next we build the header in terms of year and month. The first row in the table lists the years, while the second lists the months. We print the length of the header"
   ]
  },
  {
   "cell_type": "code",
   "execution_count": null,
   "metadata": {},
   "outputs": [],
   "source": [
    "years, months = all_rows[:2]           \n",
    "\n",
    "## Years contain multiple months, as indicated by the colspan\n",
    "years_header = []\n",
    "for items in years('th'):\n",
    "    if items.get_text() and items.get('colspan'):\n",
    "        years_header.extend([int(items.get_text())]* int(items.get('colspan')))\n",
    "        \n",
    "## Only one month per column        \n",
    "months_header = [items.get_text().strip() for items in months('th')[1:] if items.get_text()]\n",
    "\n",
    "## Zip years (with multiplicity) and months\n",
    "header = list(zip(months_header, years_header))\n",
    "\n",
    "## Store the total number of header items as a variable\n",
    "len_header = len(header)\n",
    "print(len_header)"
   ]
  },
  {
   "cell_type": "markdown",
   "metadata": {},
   "source": [
    "## 3. Auxilliary functions\n",
    "\n",
    "We need to define some auxilliary functions in order to process the entries of the table later on. The first involves converting dashes to zeros and strings to integers, while the second removes trailing zeros from a list of integers. "
   ]
  },
  {
   "cell_type": "code",
   "execution_count": null,
   "metadata": {},
   "outputs": [],
   "source": [
    "def process_num(s: str):\n",
    "    if s == '-': \n",
    "        return 0\n",
    "    else:\n",
    "        try:\n",
    "            return int(s)\n",
    "        except:\n",
    "            return s"
   ]
  },
  {
   "cell_type": "code",
   "execution_count": null,
   "metadata": {},
   "outputs": [],
   "source": [
    "from typing import List\n",
    "\n",
    "def remove_trailing_zeros(items: List[int]) -> List:\n",
    "    if items == []:\n",
    "        return \"This is the zero list\"\n",
    "    elif items[-1] == 0:\n",
    "        return remove_trailing_zeros(items[:-1])\n",
    "    else: \n",
    "        return items"
   ]
  },
  {
   "cell_type": "markdown",
   "metadata": {},
   "source": [
    "## 4. Location class\n",
    "\n",
    "The Location class will capture the data for each location. It is a NamedTuple. "
   ]
  },
  {
   "cell_type": "code",
   "execution_count": null,
   "metadata": {},
   "outputs": [],
   "source": [
    "from typing import NamedTuple, Tuple\n",
    "\n",
    "class Location(NamedTuple):\n",
    "    name: str\n",
    "    start_date: Tuple[str]\n",
    "    team_data: List[int]\n",
    "        \n",
    "    def creat_dir(self) -> None:\n",
    "        dirName = 'locations/' + self.name\n",
    "        try:\n",
    "            # Create target Directory\n",
    "            os.mkdir(dirName)\n",
    "            #print(\"Directory \" , dirName ,  \" Created \") \n",
    "        except FileExistsError:\n",
    "            print(\"Directory \" , dirName ,  \" already exists\")\n",
    "        \n",
    "        \n",
    "    def graph(self)-> None:\n",
    "        ys = [v for v in self.team_data]\n",
    "        ys.reverse()\n",
    "        len_ys, m = len(ys), max(ys)\n",
    "\n",
    "        f, ax = plt.subplots(1, figsize=(min(36,len_ys+4), min(m, 10)))\n",
    "        ax.plot(ys)\n",
    "        ax.grid(True)\n",
    "\n",
    "        if len_ys < 36:\n",
    "            labels = [ str(h[0])+ str(h[1]) for h in header[:len_ys]]\n",
    "            labels.reverse()\n",
    "            plt.xticks(list(range(len_ys)),labels )\n",
    "        else:\n",
    "            _xticks=[[],[]]\n",
    "            for j in range(len(ys)-1,0, -1):\n",
    "                if header[j][0] == 'Jan':\n",
    "                    _xticks[0].append(len(ys) - j +1)\n",
    "                    _xticks[1].append('Jan ' +  str(header[j][1]))\n",
    "            _xticks[0].append(0)\n",
    "            _xticks[1].append(str(header[len_ys-1][0]) + str(header[len_ys-1][1]))\n",
    "            plt.xticks(_xticks[0], _xticks[1])\n",
    "\n",
    "        if m > 20:\n",
    "            plt.yticks(list(range(0, m+2, 5)))\n",
    "        else:\n",
    "            plt.yticks(list(range(0, m+2, 1)))\n",
    "\n",
    "        plt.title(self.name)\n",
    "        plt.ylabel('Number of Teams')\n",
    "        #plt.xlabel('Event')\n",
    "        plt.axis([-1, len_ys , 0, m+2])\n",
    "        plt.savefig('locations/' + str(self.name) + '/teams_over_time.png')\n",
    "        #plt.show()"
   ]
  },
  {
   "cell_type": "markdown",
   "metadata": {},
   "source": [
    "## 5. Process the data\n",
    "\n",
    "We process the data by making a list that will contain all the location data. We go through the rows of the table and fill in this list. The length of this list is the number of locations, and is stored as a variable num_loc.\n",
    "\n",
    "Then we create a directory and plot for each location."
   ]
  },
  {
   "cell_type": "code",
   "execution_count": null,
   "metadata": {},
   "outputs": [],
   "source": [
    "all_loc_data: List[Location] = []\n",
    "\n",
    "locations_rows = all_rows[2:]\n",
    "for location in locations_rows:\n",
    "    loc_raw_data =[process_num(r.get_text().strip()) for r in location.find_all('td')]\n",
    "    loc_name = loc_raw_data[0] \n",
    "    loc_raw_data.pop(0)\n",
    "    assert len(loc_raw_data) == len_header\n",
    "    loc_raw_data = remove_trailing_zeros(loc_raw_data)\n",
    "    loc_start_date = header[len(loc_raw_data)-1]\n",
    "    all_loc_data.append(Location(loc_name, loc_start_date, loc_raw_data))\n",
    "\n",
    "num_loc = len(all_loc_data)"
   ]
  },
  {
   "cell_type": "code",
   "execution_count": null,
   "metadata": {},
   "outputs": [],
   "source": [
    "import os\n",
    "import matplotlib.pyplot as plt\n",
    "\n",
    "dir_name = 'locations'\n",
    "try:\n",
    "    os.mkdir(dir_name)\n",
    "except FileExistsError:\n",
    "    print(\"Directory \" , dir_name ,  \" already exists\")\n",
    "\n",
    "# Create a directory and plot for each location\n",
    "for loc in all_loc_data:\n",
    "    loc.creat_dir()\n",
    "    loc.graph()\n"
   ]
  }
 ],
 "metadata": {
  "kernelspec": {
   "display_name": "Python 3",
   "language": "python",
   "name": "python3"
  },
  "language_info": {
   "codemirror_mode": {
    "name": "ipython",
    "version": 3
   },
   "file_extension": ".py",
   "mimetype": "text/x-python",
   "name": "python",
   "nbconvert_exporter": "python",
   "pygments_lexer": "ipython3",
   "version": "3.7.4"
  }
 },
 "nbformat": 4,
 "nbformat_minor": 2
}
